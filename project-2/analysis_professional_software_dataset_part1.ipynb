{
 "cells": [
  {
   "cell_type": "markdown",
   "id": "2b04dd95-2ffb-4fa1-b4b2-091647abb161",
   "metadata": {
    "id": "2b04dd95-2ffb-4fa1-b4b2-091647abb161"
   },
   "source": [
    "### Analysis of Software Professionals Dataset"
   ]
  },
  {
   "cell_type": "markdown",
   "id": "8ba6a2d5-87be-4662-a940-6e9b347a5ae2",
   "metadata": {
    "id": "8ba6a2d5-87be-4662-a940-6e9b347a5ae2"
   },
   "source": [
    "#### Part 1\n",
    "\n",
    "In this first part, I worked with a datasets containing information of over 20k Software Professionals with different variables like:\n",
    "\n",
    "- the `Rating` of the company given by the employee,\n",
    "- the `Company Name`,\n",
    "- the `Job Title` of the employee,\n",
    "- the employee `Salary` (in Indian Rupee ₹),\n",
    "- the number of `Salaries Reported`,\n",
    "- the `Location` of the company,\n",
    "- the `Employment Status` and\n",
    "- the category of the `Job Roles`\n",
    "\n",
    "At [this link](https://www.kaggle.com/datasets/iamsouravbanerjee/software-professional-salaries-2022?search=salary) you can find the source of the data (Kaggle) as well as more information on its composition."
   ]
  },
  {
   "cell_type": "markdown",
   "id": "0d3ea74d-55a1-4236-bd04-9777f1af69de",
   "metadata": {
    "id": "0d3ea74d-55a1-4236-bd04-9777f1af69de"
   },
   "source": [
    "**Setup:** I imported the necessary libraries and loaded the .csv file to a DataFrame named `sps` and first of all I checked that all columns have the correct data type."
   ]
  },
  {
   "cell_type": "code",
   "execution_count": null,
   "id": "40c3fbf2-54a3-440c-868f-d2509ca27aba",
   "metadata": {
    "id": "40c3fbf2-54a3-440c-868f-d2509ca27aba"
   },
   "outputs": [],
   "source": [
    "import numpy as np\n",
    "import pandas as pd\n",
    "import seaborn as sns\n",
    "import matplotlib.pyplot as plt\n",
    "import requests"
   ]
  },
  {
   "cell_type": "code",
   "execution_count": null,
   "id": "iDABlx-RpI6a",
   "metadata": {
    "colab": {
     "base_uri": "https://localhost:8080/",
     "height": 467
    },
    "id": "iDABlx-RpI6a",
    "outputId": "79f287d0-c003-4c13-8685-545d0c2ca5aa"
   },
   "outputs": [
    {
     "data": {
      "text/html": [
       "\n",
       "  <div id=\"df-481c3449-ed56-4488-879e-d5f06735210c\">\n",
       "    <div class=\"colab-df-container\">\n",
       "      <div>\n",
       "<style scoped>\n",
       "    .dataframe tbody tr th:only-of-type {\n",
       "        vertical-align: middle;\n",
       "    }\n",
       "\n",
       "    .dataframe tbody tr th {\n",
       "        vertical-align: top;\n",
       "    }\n",
       "\n",
       "    .dataframe thead th {\n",
       "        text-align: right;\n",
       "    }\n",
       "</style>\n",
       "<table border=\"1\" class=\"dataframe\">\n",
       "  <thead>\n",
       "    <tr style=\"text-align: right;\">\n",
       "      <th></th>\n",
       "      <th>Rating</th>\n",
       "      <th>Company Name</th>\n",
       "      <th>Job Title</th>\n",
       "      <th>Salary</th>\n",
       "      <th>Salaries Reported</th>\n",
       "      <th>Location</th>\n",
       "      <th>Employment Status</th>\n",
       "      <th>Job Roles</th>\n",
       "    </tr>\n",
       "  </thead>\n",
       "  <tbody>\n",
       "    <tr>\n",
       "      <th>0</th>\n",
       "      <td>3.8</td>\n",
       "      <td>Sasken</td>\n",
       "      <td>Android Developer</td>\n",
       "      <td>400000</td>\n",
       "      <td>3</td>\n",
       "      <td>Bangalore</td>\n",
       "      <td>Full Time</td>\n",
       "      <td>Android</td>\n",
       "    </tr>\n",
       "    <tr>\n",
       "      <th>1</th>\n",
       "      <td>4.5</td>\n",
       "      <td>Advanced Millennium Technologies</td>\n",
       "      <td>Android Developer</td>\n",
       "      <td>400000</td>\n",
       "      <td>3</td>\n",
       "      <td>Bangalore</td>\n",
       "      <td>Full Time</td>\n",
       "      <td>Android</td>\n",
       "    </tr>\n",
       "    <tr>\n",
       "      <th>2</th>\n",
       "      <td>4.0</td>\n",
       "      <td>Unacademy</td>\n",
       "      <td>Android Developer</td>\n",
       "      <td>1000000</td>\n",
       "      <td>3</td>\n",
       "      <td>Bangalore</td>\n",
       "      <td>Full Time</td>\n",
       "      <td>Android</td>\n",
       "    </tr>\n",
       "    <tr>\n",
       "      <th>3</th>\n",
       "      <td>3.8</td>\n",
       "      <td>SnapBizz Cloudtech</td>\n",
       "      <td>Android Developer</td>\n",
       "      <td>300000</td>\n",
       "      <td>3</td>\n",
       "      <td>Bangalore</td>\n",
       "      <td>Full Time</td>\n",
       "      <td>Android</td>\n",
       "    </tr>\n",
       "    <tr>\n",
       "      <th>4</th>\n",
       "      <td>4.4</td>\n",
       "      <td>Appoids Tech Solutions</td>\n",
       "      <td>Android Developer</td>\n",
       "      <td>600000</td>\n",
       "      <td>3</td>\n",
       "      <td>Bangalore</td>\n",
       "      <td>Full Time</td>\n",
       "      <td>Android</td>\n",
       "    </tr>\n",
       "    <tr>\n",
       "      <th>...</th>\n",
       "      <td>...</td>\n",
       "      <td>...</td>\n",
       "      <td>...</td>\n",
       "      <td>...</td>\n",
       "      <td>...</td>\n",
       "      <td>...</td>\n",
       "      <td>...</td>\n",
       "      <td>...</td>\n",
       "    </tr>\n",
       "    <tr>\n",
       "      <th>22765</th>\n",
       "      <td>4.7</td>\n",
       "      <td>Expert Solutions</td>\n",
       "      <td>Web Developer</td>\n",
       "      <td>200000</td>\n",
       "      <td>1</td>\n",
       "      <td>Bangalore</td>\n",
       "      <td>Full Time</td>\n",
       "      <td>Web</td>\n",
       "    </tr>\n",
       "    <tr>\n",
       "      <th>22766</th>\n",
       "      <td>4.0</td>\n",
       "      <td>Nextgen Innovation Labs</td>\n",
       "      <td>Web Developer</td>\n",
       "      <td>300000</td>\n",
       "      <td>1</td>\n",
       "      <td>Bangalore</td>\n",
       "      <td>Full Time</td>\n",
       "      <td>Web</td>\n",
       "    </tr>\n",
       "    <tr>\n",
       "      <th>22767</th>\n",
       "      <td>4.1</td>\n",
       "      <td>Fresher</td>\n",
       "      <td>Full Stack Web Developer</td>\n",
       "      <td>192000</td>\n",
       "      <td>13</td>\n",
       "      <td>Bangalore</td>\n",
       "      <td>Full Time</td>\n",
       "      <td>Web</td>\n",
       "    </tr>\n",
       "    <tr>\n",
       "      <th>22768</th>\n",
       "      <td>4.1</td>\n",
       "      <td>Accenture</td>\n",
       "      <td>Full Stack Web Developer</td>\n",
       "      <td>300000</td>\n",
       "      <td>7</td>\n",
       "      <td>Bangalore</td>\n",
       "      <td>Full Time</td>\n",
       "      <td>Web</td>\n",
       "    </tr>\n",
       "    <tr>\n",
       "      <th>22769</th>\n",
       "      <td>3.8</td>\n",
       "      <td>Thomson Reuters</td>\n",
       "      <td>Associate Web Developer</td>\n",
       "      <td>300000</td>\n",
       "      <td>7</td>\n",
       "      <td>Bangalore</td>\n",
       "      <td>Full Time</td>\n",
       "      <td>Web</td>\n",
       "    </tr>\n",
       "  </tbody>\n",
       "</table>\n",
       "<p>22770 rows × 8 columns</p>\n",
       "</div>\n",
       "      <button class=\"colab-df-convert\" onclick=\"convertToInteractive('df-481c3449-ed56-4488-879e-d5f06735210c')\"\n",
       "              title=\"Convert this dataframe to an interactive table.\"\n",
       "              style=\"display:none;\">\n",
       "        \n",
       "  <svg xmlns=\"http://www.w3.org/2000/svg\" height=\"24px\"viewBox=\"0 0 24 24\"\n",
       "       width=\"24px\">\n",
       "    <path d=\"M0 0h24v24H0V0z\" fill=\"none\"/>\n",
       "    <path d=\"M18.56 5.44l.94 2.06.94-2.06 2.06-.94-2.06-.94-.94-2.06-.94 2.06-2.06.94zm-11 1L8.5 8.5l.94-2.06 2.06-.94-2.06-.94L8.5 2.5l-.94 2.06-2.06.94zm10 10l.94 2.06.94-2.06 2.06-.94-2.06-.94-.94-2.06-.94 2.06-2.06.94z\"/><path d=\"M17.41 7.96l-1.37-1.37c-.4-.4-.92-.59-1.43-.59-.52 0-1.04.2-1.43.59L10.3 9.45l-7.72 7.72c-.78.78-.78 2.05 0 2.83L4 21.41c.39.39.9.59 1.41.59.51 0 1.02-.2 1.41-.59l7.78-7.78 2.81-2.81c.8-.78.8-2.07 0-2.86zM5.41 20L4 18.59l7.72-7.72 1.47 1.35L5.41 20z\"/>\n",
       "  </svg>\n",
       "      </button>\n",
       "      \n",
       "  <style>\n",
       "    .colab-df-container {\n",
       "      display:flex;\n",
       "      flex-wrap:wrap;\n",
       "      gap: 12px;\n",
       "    }\n",
       "\n",
       "    .colab-df-convert {\n",
       "      background-color: #E8F0FE;\n",
       "      border: none;\n",
       "      border-radius: 50%;\n",
       "      cursor: pointer;\n",
       "      display: none;\n",
       "      fill: #1967D2;\n",
       "      height: 32px;\n",
       "      padding: 0 0 0 0;\n",
       "      width: 32px;\n",
       "    }\n",
       "\n",
       "    .colab-df-convert:hover {\n",
       "      background-color: #E2EBFA;\n",
       "      box-shadow: 0px 1px 2px rgba(60, 64, 67, 0.3), 0px 1px 3px 1px rgba(60, 64, 67, 0.15);\n",
       "      fill: #174EA6;\n",
       "    }\n",
       "\n",
       "    [theme=dark] .colab-df-convert {\n",
       "      background-color: #3B4455;\n",
       "      fill: #D2E3FC;\n",
       "    }\n",
       "\n",
       "    [theme=dark] .colab-df-convert:hover {\n",
       "      background-color: #434B5C;\n",
       "      box-shadow: 0px 1px 3px 1px rgba(0, 0, 0, 0.15);\n",
       "      filter: drop-shadow(0px 1px 2px rgba(0, 0, 0, 0.3));\n",
       "      fill: #FFFFFF;\n",
       "    }\n",
       "  </style>\n",
       "\n",
       "      <script>\n",
       "        const buttonEl =\n",
       "          document.querySelector('#df-481c3449-ed56-4488-879e-d5f06735210c button.colab-df-convert');\n",
       "        buttonEl.style.display =\n",
       "          google.colab.kernel.accessAllowed ? 'block' : 'none';\n",
       "\n",
       "        async function convertToInteractive(key) {\n",
       "          const element = document.querySelector('#df-481c3449-ed56-4488-879e-d5f06735210c');\n",
       "          const dataTable =\n",
       "            await google.colab.kernel.invokeFunction('convertToInteractive',\n",
       "                                                     [key], {});\n",
       "          if (!dataTable) return;\n",
       "\n",
       "          const docLinkHtml = 'Like what you see? Visit the ' +\n",
       "            '<a target=\"_blank\" href=https://colab.research.google.com/notebooks/data_table.ipynb>data table notebook</a>'\n",
       "            + ' to learn more about interactive tables.';\n",
       "          element.innerHTML = '';\n",
       "          dataTable['output_type'] = 'display_data';\n",
       "          await google.colab.output.renderOutput(dataTable, element);\n",
       "          const docLink = document.createElement('div');\n",
       "          docLink.innerHTML = docLinkHtml;\n",
       "          element.appendChild(docLink);\n",
       "        }\n",
       "      </script>\n",
       "    </div>\n",
       "  </div>\n",
       "  "
      ],
      "text/plain": [
       "       Rating                      Company Name                 Job Title  \\\n",
       "0         3.8                            Sasken         Android Developer   \n",
       "1         4.5  Advanced Millennium Technologies         Android Developer   \n",
       "2         4.0                         Unacademy         Android Developer   \n",
       "3         3.8                SnapBizz Cloudtech         Android Developer   \n",
       "4         4.4            Appoids Tech Solutions         Android Developer   \n",
       "...       ...                               ...                       ...   \n",
       "22765     4.7                  Expert Solutions             Web Developer   \n",
       "22766     4.0           Nextgen Innovation Labs             Web Developer   \n",
       "22767     4.1                           Fresher  Full Stack Web Developer   \n",
       "22768     4.1                         Accenture  Full Stack Web Developer   \n",
       "22769     3.8                   Thomson Reuters   Associate Web Developer   \n",
       "\n",
       "        Salary  Salaries Reported   Location Employment Status Job Roles  \n",
       "0       400000                  3  Bangalore         Full Time   Android  \n",
       "1       400000                  3  Bangalore         Full Time   Android  \n",
       "2      1000000                  3  Bangalore         Full Time   Android  \n",
       "3       300000                  3  Bangalore         Full Time   Android  \n",
       "4       600000                  3  Bangalore         Full Time   Android  \n",
       "...        ...                ...        ...               ...       ...  \n",
       "22765   200000                  1  Bangalore         Full Time       Web  \n",
       "22766   300000                  1  Bangalore         Full Time       Web  \n",
       "22767   192000                 13  Bangalore         Full Time       Web  \n",
       "22768   300000                  7  Bangalore         Full Time       Web  \n",
       "22769   300000                  7  Bangalore         Full Time       Web  \n",
       "\n",
       "[22770 rows x 8 columns]"
      ]
     },
     "execution_count": 7,
     "metadata": {},
     "output_type": "execute_result"
    }
   ],
   "source": [
    "sps = pd.read_csv('Software Professionals Salary.csv')\n",
    "sps"
   ]
  },
  {
   "cell_type": "code",
   "execution_count": null,
   "id": "rodVf1xppe74",
   "metadata": {
    "colab": {
     "base_uri": "https://localhost:8080/"
    },
    "id": "rodVf1xppe74",
    "outputId": "0e73ed3e-8f06-44d2-e689-6f7909af823a"
   },
   "outputs": [
    {
     "name": "stdout",
     "output_type": "stream",
     "text": [
      "Rating               float64\n",
      "Company Name          object\n",
      "Job Title             object\n",
      "Salary                 int64\n",
      "Salaries Reported      int64\n",
      "Location              object\n",
      "Employment Status     object\n",
      "Job Roles             object\n",
      "dtype: object\n"
     ]
    }
   ],
   "source": [
    "print(sps.dtypes)"
   ]
  },
  {
   "cell_type": "markdown",
   "id": "d7e527a1-5129-4008-8db5-6b196be6a7cd",
   "metadata": {
    "id": "d7e527a1-5129-4008-8db5-6b196be6a7cd"
   },
   "source": [
    "1. Shape (rows, cols) of the `sps` DataFrame"
   ]
  },
  {
   "cell_type": "code",
   "execution_count": null,
   "id": "fd0690a5-11a2-44eb-b501-b92914e30832",
   "metadata": {
    "colab": {
     "base_uri": "https://localhost:8080/"
    },
    "id": "fd0690a5-11a2-44eb-b501-b92914e30832",
    "outputId": "9d73272e-fb55-4e6e-ccdb-fb7225a4b54d"
   },
   "outputs": [
    {
     "data": {
      "text/plain": [
       "(22770, 8)"
      ]
     },
     "execution_count": 9,
     "metadata": {},
     "output_type": "execute_result"
    }
   ],
   "source": [
    "sps.shape"
   ]
  },
  {
   "cell_type": "markdown",
   "id": "a80bd554-b444-4335-9841-1c46374abf60",
   "metadata": {
    "id": "a80bd554-b444-4335-9841-1c46374abf60"
   },
   "source": [
    "2. Number of unique `Job Roles` in the dataset"
   ]
  },
  {
   "cell_type": "code",
   "execution_count": null,
   "id": "9ucP8jbNquUh",
   "metadata": {
    "colab": {
     "base_uri": "https://localhost:8080/"
    },
    "id": "9ucP8jbNquUh",
    "outputId": "fac2678f-04fd-4b0e-8458-b13194acd62d"
   },
   "outputs": [
    {
     "data": {
      "text/plain": [
       "11"
      ]
     },
     "execution_count": 10,
     "metadata": {},
     "output_type": "execute_result"
    }
   ],
   "source": [
    "sps['Job Roles'].nunique()"
   ]
  },
  {
   "cell_type": "code",
   "execution_count": null,
   "id": "c4f563b6-dfea-4fc7-8e1a-b33fdcec2454",
   "metadata": {
    "colab": {
     "base_uri": "https://localhost:8080/"
    },
    "id": "c4f563b6-dfea-4fc7-8e1a-b33fdcec2454",
    "outputId": "9f24fdcd-2550-4374-f534-173b8601ab79"
   },
   "outputs": [
    {
     "data": {
      "text/plain": [
       "array(['Android', 'Backend', 'Database', 'Frontend', 'IOS', 'Java',\n",
       "       'Mobile', 'SDE', 'Python', 'Web', 'Testing'], dtype=object)"
      ]
     },
     "execution_count": 11,
     "metadata": {},
     "output_type": "execute_result"
    }
   ],
   "source": [
    "sps['Job Roles'].unique()"
   ]
  },
  {
   "cell_type": "markdown",
   "id": "3e37f0cb-a461-455c-8c86-3442d453e998",
   "metadata": {
    "id": "3e37f0cb-a461-455c-8c86-3442d453e998"
   },
   "source": [
    "3. Number of unique `Job Title` for the \"Python\" `Job Role`"
   ]
  },
  {
   "cell_type": "code",
   "execution_count": null,
   "id": "e5114fa9-4fee-4835-ba92-dafc05c06275",
   "metadata": {
    "colab": {
     "base_uri": "https://localhost:8080/"
    },
    "id": "e5114fa9-4fee-4835-ba92-dafc05c06275",
    "outputId": "d1846caf-db40-450a-96b8-4913033ac6d1"
   },
   "outputs": [
    {
     "data": {
      "text/plain": [
       "102"
      ]
     },
     "execution_count": 12,
     "metadata": {},
     "output_type": "execute_result"
    }
   ],
   "source": [
    "sps[sps['Job Roles'] == 'Python']['Job Title'].nunique()"
   ]
  },
  {
   "cell_type": "markdown",
   "id": "a17fcd33-da70-4d95-b6ef-db5a5691924f",
   "metadata": {
    "id": "a17fcd33-da70-4d95-b6ef-db5a5691924f"
   },
   "source": [
    "4. Number of the `Company Name`s that have a \"Python\" `Job Role` with a `Job Title` containing the **substring** \"Analyst\""
   ]
  },
  {
   "cell_type": "code",
   "execution_count": null,
   "id": "5b9b9905-3e0c-48c3-a8c6-73cfe8a17c65",
   "metadata": {
    "colab": {
     "base_uri": "https://localhost:8080/"
    },
    "id": "5b9b9905-3e0c-48c3-a8c6-73cfe8a17c65",
    "outputId": "f099e051-e0bf-419e-9ad1-fd9ccc71b5b6"
   },
   "outputs": [
    {
     "data": {
      "text/plain": [
       "Company Name\n",
       "Infosys                1\n",
       "Ocwen Financial        1\n",
       "TrioHats Consulting    1\n",
       "dtype: int64"
      ]
     },
     "execution_count": 13,
     "metadata": {},
     "output_type": "execute_result"
    }
   ],
   "source": [
    "sps[(sps['Job Roles'] == 'Python') & (sps['Job Title'].str.contains('Analyst'))].groupby('Company Name').size()\n"
   ]
  },
  {
   "cell_type": "markdown",
   "id": "H7TM9hi8kA2c",
   "metadata": {
    "id": "H7TM9hi8kA2c"
   },
   "source": [
    "There are **3** companies that have a **Python Job Role** with a Job Title containing the substring **Analyst** (more informations below)."
   ]
  },
  {
   "cell_type": "code",
   "execution_count": null,
   "id": "3HFohQV51-vs",
   "metadata": {
    "colab": {
     "base_uri": "https://localhost:8080/",
     "height": 143
    },
    "id": "3HFohQV51-vs",
    "outputId": "ad9debfb-caf1-44e4-98c6-0c3841f94674"
   },
   "outputs": [
    {
     "data": {
      "text/html": [
       "\n",
       "  <div id=\"df-77d93a3c-891b-4ab7-808a-3c2cb00d3e7f\">\n",
       "    <div class=\"colab-df-container\">\n",
       "      <div>\n",
       "<style scoped>\n",
       "    .dataframe tbody tr th:only-of-type {\n",
       "        vertical-align: middle;\n",
       "    }\n",
       "\n",
       "    .dataframe tbody tr th {\n",
       "        vertical-align: top;\n",
       "    }\n",
       "\n",
       "    .dataframe thead th {\n",
       "        text-align: right;\n",
       "    }\n",
       "</style>\n",
       "<table border=\"1\" class=\"dataframe\">\n",
       "  <thead>\n",
       "    <tr style=\"text-align: right;\">\n",
       "      <th></th>\n",
       "      <th>Rating</th>\n",
       "      <th>Company Name</th>\n",
       "      <th>Job Title</th>\n",
       "      <th>Salary</th>\n",
       "      <th>Salaries Reported</th>\n",
       "      <th>Location</th>\n",
       "      <th>Employment Status</th>\n",
       "      <th>Job Roles</th>\n",
       "    </tr>\n",
       "  </thead>\n",
       "  <tbody>\n",
       "    <tr>\n",
       "      <th>11352</th>\n",
       "      <td>3.7</td>\n",
       "      <td>Ocwen Financial</td>\n",
       "      <td>Python Analyst</td>\n",
       "      <td>500000</td>\n",
       "      <td>1</td>\n",
       "      <td>Bangalore</td>\n",
       "      <td>Full Time</td>\n",
       "      <td>Python</td>\n",
       "    </tr>\n",
       "    <tr>\n",
       "      <th>11371</th>\n",
       "      <td>4.0</td>\n",
       "      <td>TrioHats Consulting</td>\n",
       "      <td>Python and Machine Learning Analyst</td>\n",
       "      <td>100000</td>\n",
       "      <td>1</td>\n",
       "      <td>Bangalore</td>\n",
       "      <td>Full Time</td>\n",
       "      <td>Python</td>\n",
       "    </tr>\n",
       "    <tr>\n",
       "      <th>11541</th>\n",
       "      <td>3.3</td>\n",
       "      <td>Infosys</td>\n",
       "      <td>Technology Analyst - Python Developer</td>\n",
       "      <td>600000</td>\n",
       "      <td>1</td>\n",
       "      <td>Chennai</td>\n",
       "      <td>Full Time</td>\n",
       "      <td>Python</td>\n",
       "    </tr>\n",
       "  </tbody>\n",
       "</table>\n",
       "</div>\n",
       "      <button class=\"colab-df-convert\" onclick=\"convertToInteractive('df-77d93a3c-891b-4ab7-808a-3c2cb00d3e7f')\"\n",
       "              title=\"Convert this dataframe to an interactive table.\"\n",
       "              style=\"display:none;\">\n",
       "        \n",
       "  <svg xmlns=\"http://www.w3.org/2000/svg\" height=\"24px\"viewBox=\"0 0 24 24\"\n",
       "       width=\"24px\">\n",
       "    <path d=\"M0 0h24v24H0V0z\" fill=\"none\"/>\n",
       "    <path d=\"M18.56 5.44l.94 2.06.94-2.06 2.06-.94-2.06-.94-.94-2.06-.94 2.06-2.06.94zm-11 1L8.5 8.5l.94-2.06 2.06-.94-2.06-.94L8.5 2.5l-.94 2.06-2.06.94zm10 10l.94 2.06.94-2.06 2.06-.94-2.06-.94-.94-2.06-.94 2.06-2.06.94z\"/><path d=\"M17.41 7.96l-1.37-1.37c-.4-.4-.92-.59-1.43-.59-.52 0-1.04.2-1.43.59L10.3 9.45l-7.72 7.72c-.78.78-.78 2.05 0 2.83L4 21.41c.39.39.9.59 1.41.59.51 0 1.02-.2 1.41-.59l7.78-7.78 2.81-2.81c.8-.78.8-2.07 0-2.86zM5.41 20L4 18.59l7.72-7.72 1.47 1.35L5.41 20z\"/>\n",
       "  </svg>\n",
       "      </button>\n",
       "      \n",
       "  <style>\n",
       "    .colab-df-container {\n",
       "      display:flex;\n",
       "      flex-wrap:wrap;\n",
       "      gap: 12px;\n",
       "    }\n",
       "\n",
       "    .colab-df-convert {\n",
       "      background-color: #E8F0FE;\n",
       "      border: none;\n",
       "      border-radius: 50%;\n",
       "      cursor: pointer;\n",
       "      display: none;\n",
       "      fill: #1967D2;\n",
       "      height: 32px;\n",
       "      padding: 0 0 0 0;\n",
       "      width: 32px;\n",
       "    }\n",
       "\n",
       "    .colab-df-convert:hover {\n",
       "      background-color: #E2EBFA;\n",
       "      box-shadow: 0px 1px 2px rgba(60, 64, 67, 0.3), 0px 1px 3px 1px rgba(60, 64, 67, 0.15);\n",
       "      fill: #174EA6;\n",
       "    }\n",
       "\n",
       "    [theme=dark] .colab-df-convert {\n",
       "      background-color: #3B4455;\n",
       "      fill: #D2E3FC;\n",
       "    }\n",
       "\n",
       "    [theme=dark] .colab-df-convert:hover {\n",
       "      background-color: #434B5C;\n",
       "      box-shadow: 0px 1px 3px 1px rgba(0, 0, 0, 0.15);\n",
       "      filter: drop-shadow(0px 1px 2px rgba(0, 0, 0, 0.3));\n",
       "      fill: #FFFFFF;\n",
       "    }\n",
       "  </style>\n",
       "\n",
       "      <script>\n",
       "        const buttonEl =\n",
       "          document.querySelector('#df-77d93a3c-891b-4ab7-808a-3c2cb00d3e7f button.colab-df-convert');\n",
       "        buttonEl.style.display =\n",
       "          google.colab.kernel.accessAllowed ? 'block' : 'none';\n",
       "\n",
       "        async function convertToInteractive(key) {\n",
       "          const element = document.querySelector('#df-77d93a3c-891b-4ab7-808a-3c2cb00d3e7f');\n",
       "          const dataTable =\n",
       "            await google.colab.kernel.invokeFunction('convertToInteractive',\n",
       "                                                     [key], {});\n",
       "          if (!dataTable) return;\n",
       "\n",
       "          const docLinkHtml = 'Like what you see? Visit the ' +\n",
       "            '<a target=\"_blank\" href=https://colab.research.google.com/notebooks/data_table.ipynb>data table notebook</a>'\n",
       "            + ' to learn more about interactive tables.';\n",
       "          element.innerHTML = '';\n",
       "          dataTable['output_type'] = 'display_data';\n",
       "          await google.colab.output.renderOutput(dataTable, element);\n",
       "          const docLink = document.createElement('div');\n",
       "          docLink.innerHTML = docLinkHtml;\n",
       "          element.appendChild(docLink);\n",
       "        }\n",
       "      </script>\n",
       "    </div>\n",
       "  </div>\n",
       "  "
      ],
      "text/plain": [
       "       Rating         Company Name                              Job Title  \\\n",
       "11352     3.7      Ocwen Financial                         Python Analyst   \n",
       "11371     4.0  TrioHats Consulting    Python and Machine Learning Analyst   \n",
       "11541     3.3              Infosys  Technology Analyst - Python Developer   \n",
       "\n",
       "       Salary  Salaries Reported   Location Employment Status Job Roles  \n",
       "11352  500000                  1  Bangalore         Full Time    Python  \n",
       "11371  100000                  1  Bangalore         Full Time    Python  \n",
       "11541  600000                  1    Chennai         Full Time    Python  "
      ]
     },
     "execution_count": 14,
     "metadata": {},
     "output_type": "execute_result"
    }
   ],
   "source": [
    "filtered_data = sps[(sps['Job Roles'] == 'Python') & (sps['Job Title'].str.contains('Analyst'))]\n",
    "filtered_data"
   ]
  },
  {
   "cell_type": "markdown",
   "id": "f2110f33-71b5-4537-9aee-514f96c06a23",
   "metadata": {
    "id": "f2110f33-71b5-4537-9aee-514f96c06a23"
   },
   "source": [
    "5. `Company Name` that has the highest number of `Salaries Reported` (across all `Job Title`s)"
   ]
  },
  {
   "cell_type": "code",
   "execution_count": null,
   "id": "0cd9baa9-897f-41b2-a062-a15d1bad566a",
   "metadata": {
    "colab": {
     "base_uri": "https://localhost:8080/",
     "height": 80
    },
    "id": "0cd9baa9-897f-41b2-a062-a15d1bad566a",
    "outputId": "6b92f1c9-4f66-4635-e66f-140262a9a49f"
   },
   "outputs": [
    {
     "data": {
      "text/html": [
       "\n",
       "  <div id=\"df-e44cab43-cf51-4ff3-a4ff-af5f477b86a6\">\n",
       "    <div class=\"colab-df-container\">\n",
       "      <div>\n",
       "<style scoped>\n",
       "    .dataframe tbody tr th:only-of-type {\n",
       "        vertical-align: middle;\n",
       "    }\n",
       "\n",
       "    .dataframe tbody tr th {\n",
       "        vertical-align: top;\n",
       "    }\n",
       "\n",
       "    .dataframe thead th {\n",
       "        text-align: right;\n",
       "    }\n",
       "</style>\n",
       "<table border=\"1\" class=\"dataframe\">\n",
       "  <thead>\n",
       "    <tr style=\"text-align: right;\">\n",
       "      <th></th>\n",
       "      <th>Company Name</th>\n",
       "      <th>Salaries Reported</th>\n",
       "    </tr>\n",
       "  </thead>\n",
       "  <tbody>\n",
       "    <tr>\n",
       "      <th>660</th>\n",
       "      <td>Amazon</td>\n",
       "      <td>2636</td>\n",
       "    </tr>\n",
       "  </tbody>\n",
       "</table>\n",
       "</div>\n",
       "      <button class=\"colab-df-convert\" onclick=\"convertToInteractive('df-e44cab43-cf51-4ff3-a4ff-af5f477b86a6')\"\n",
       "              title=\"Convert this dataframe to an interactive table.\"\n",
       "              style=\"display:none;\">\n",
       "        \n",
       "  <svg xmlns=\"http://www.w3.org/2000/svg\" height=\"24px\"viewBox=\"0 0 24 24\"\n",
       "       width=\"24px\">\n",
       "    <path d=\"M0 0h24v24H0V0z\" fill=\"none\"/>\n",
       "    <path d=\"M18.56 5.44l.94 2.06.94-2.06 2.06-.94-2.06-.94-.94-2.06-.94 2.06-2.06.94zm-11 1L8.5 8.5l.94-2.06 2.06-.94-2.06-.94L8.5 2.5l-.94 2.06-2.06.94zm10 10l.94 2.06.94-2.06 2.06-.94-2.06-.94-.94-2.06-.94 2.06-2.06.94z\"/><path d=\"M17.41 7.96l-1.37-1.37c-.4-.4-.92-.59-1.43-.59-.52 0-1.04.2-1.43.59L10.3 9.45l-7.72 7.72c-.78.78-.78 2.05 0 2.83L4 21.41c.39.39.9.59 1.41.59.51 0 1.02-.2 1.41-.59l7.78-7.78 2.81-2.81c.8-.78.8-2.07 0-2.86zM5.41 20L4 18.59l7.72-7.72 1.47 1.35L5.41 20z\"/>\n",
       "  </svg>\n",
       "      </button>\n",
       "      \n",
       "  <style>\n",
       "    .colab-df-container {\n",
       "      display:flex;\n",
       "      flex-wrap:wrap;\n",
       "      gap: 12px;\n",
       "    }\n",
       "\n",
       "    .colab-df-convert {\n",
       "      background-color: #E8F0FE;\n",
       "      border: none;\n",
       "      border-radius: 50%;\n",
       "      cursor: pointer;\n",
       "      display: none;\n",
       "      fill: #1967D2;\n",
       "      height: 32px;\n",
       "      padding: 0 0 0 0;\n",
       "      width: 32px;\n",
       "    }\n",
       "\n",
       "    .colab-df-convert:hover {\n",
       "      background-color: #E2EBFA;\n",
       "      box-shadow: 0px 1px 2px rgba(60, 64, 67, 0.3), 0px 1px 3px 1px rgba(60, 64, 67, 0.15);\n",
       "      fill: #174EA6;\n",
       "    }\n",
       "\n",
       "    [theme=dark] .colab-df-convert {\n",
       "      background-color: #3B4455;\n",
       "      fill: #D2E3FC;\n",
       "    }\n",
       "\n",
       "    [theme=dark] .colab-df-convert:hover {\n",
       "      background-color: #434B5C;\n",
       "      box-shadow: 0px 1px 3px 1px rgba(0, 0, 0, 0.15);\n",
       "      filter: drop-shadow(0px 1px 2px rgba(0, 0, 0, 0.3));\n",
       "      fill: #FFFFFF;\n",
       "    }\n",
       "  </style>\n",
       "\n",
       "      <script>\n",
       "        const buttonEl =\n",
       "          document.querySelector('#df-e44cab43-cf51-4ff3-a4ff-af5f477b86a6 button.colab-df-convert');\n",
       "        buttonEl.style.display =\n",
       "          google.colab.kernel.accessAllowed ? 'block' : 'none';\n",
       "\n",
       "        async function convertToInteractive(key) {\n",
       "          const element = document.querySelector('#df-e44cab43-cf51-4ff3-a4ff-af5f477b86a6');\n",
       "          const dataTable =\n",
       "            await google.colab.kernel.invokeFunction('convertToInteractive',\n",
       "                                                     [key], {});\n",
       "          if (!dataTable) return;\n",
       "\n",
       "          const docLinkHtml = 'Like what you see? Visit the ' +\n",
       "            '<a target=\"_blank\" href=https://colab.research.google.com/notebooks/data_table.ipynb>data table notebook</a>'\n",
       "            + ' to learn more about interactive tables.';\n",
       "          element.innerHTML = '';\n",
       "          dataTable['output_type'] = 'display_data';\n",
       "          await google.colab.output.renderOutput(dataTable, element);\n",
       "          const docLink = document.createElement('div');\n",
       "          docLink.innerHTML = docLinkHtml;\n",
       "          element.appendChild(docLink);\n",
       "        }\n",
       "      </script>\n",
       "    </div>\n",
       "  </div>\n",
       "  "
      ],
      "text/plain": [
       "    Company Name  Salaries Reported\n",
       "660       Amazon               2636"
      ]
     },
     "execution_count": 80,
     "metadata": {},
     "output_type": "execute_result"
    }
   ],
   "source": [
    "grouped_data = sps.groupby('Company Name')['Salaries Reported'].sum().reset_index()\n",
    "highest_salary_reported = grouped_data.sort_values('Salaries Reported', ascending=False).head(1)\n",
    "highest_salary_reported"
   ]
  },
  {
   "cell_type": "markdown",
   "id": "32mGZWxkkg4a",
   "metadata": {
    "id": "32mGZWxkkg4a"
   },
   "source": [
    "The company that have **the highest number of Salaries Reported** (across all Job Titles) is **Amazon** with **2636**."
   ]
  },
  {
   "cell_type": "markdown",
   "id": "902fbf21-180a-44de-81e4-50457980c762",
   "metadata": {
    "id": "902fbf21-180a-44de-81e4-50457980c762"
   },
   "source": [
    "6. Number of `Location`s of previous company"
   ]
  },
  {
   "cell_type": "code",
   "execution_count": null,
   "id": "918e629a-b114-4064-8943-2cd283988e07",
   "metadata": {
    "colab": {
     "base_uri": "https://localhost:8080/"
    },
    "id": "918e629a-b114-4064-8943-2cd283988e07",
    "outputId": "43724c29-711f-4361-e26c-cdea607d4978"
   },
   "outputs": [
    {
     "data": {
      "text/plain": [
       "9"
      ]
     },
     "execution_count": 81,
     "metadata": {},
     "output_type": "execute_result"
    }
   ],
   "source": [
    "sps.loc[sps['Company Name'] == 'Amazon']['Location'].nunique()"
   ]
  },
  {
   "cell_type": "markdown",
   "id": "ig-T1gIKk4W1",
   "metadata": {
    "id": "ig-T1gIKk4W1"
   },
   "source": [
    "**Amazon** is present in **9** locations."
   ]
  },
  {
   "cell_type": "markdown",
   "id": "dee41965-0db4-446d-bf20-174898462a8d",
   "metadata": {
    "id": "dee41965-0db4-446d-bf20-174898462a8d"
   },
   "source": [
    "7. As you may have noticed, the `Salary` is reported in Indian Rupees (ISO code: INR). Using the [Open Access Endpoint](https://www.exchangerate-api.com/docs/free) (no API Key required) of the ExchangeRate-API service I created a new column named `Salary USD` containing the salary-equivalent in USD and round the result to zero decimals. *Note: of course, this result will change in time*"
   ]
  },
  {
   "cell_type": "code",
   "execution_count": null,
   "id": "bab08d9b-ac6c-4ae6-a6fe-1efded5e4bab",
   "metadata": {
    "colab": {
     "base_uri": "https://localhost:8080/"
    },
    "id": "bab08d9b-ac6c-4ae6-a6fe-1efded5e4bab",
    "outputId": "9ffa822b-e5f6-4409-db91-897e5cc70566"
   },
   "outputs": [
    {
     "name": "stdout",
     "output_type": "stream",
     "text": [
      "Exchange rate from INR to USD (12/06/23): 0.012123\n",
      "        Salary  Salary USD\n",
      "0       400000      4849.0\n",
      "1       400000      4849.0\n",
      "2      1000000     12123.0\n",
      "3       300000      3637.0\n",
      "4       600000      7274.0\n",
      "...        ...         ...\n",
      "22765   200000      2425.0\n",
      "22766   300000      3637.0\n",
      "22767   192000      2328.0\n",
      "22768   300000      3637.0\n",
      "22769   300000      3637.0\n",
      "\n",
      "[22770 rows x 2 columns]\n"
     ]
    }
   ],
   "source": [
    "r = requests.get('https://open.er-api.com/v6/latest/INR')\n",
    "data = r.json()\n",
    "exchange_rate = data['rates']['USD']\n",
    "\n",
    "sps['Salary USD'] = sps['Salary'] * exchange_rate\n",
    "sps['Salary USD'] = sps['Salary USD'].round(0)\n",
    "\n",
    "print(f\"Exchange rate from INR to USD (12/06/23): {exchange_rate}\")\n",
    "\n",
    "print(sps[['Salary', 'Salary USD']])\n"
   ]
  },
  {
   "cell_type": "markdown",
   "id": "c457c816-0762-4727-a4dc-b89d0b12eea5",
   "metadata": {
    "id": "c457c816-0762-4727-a4dc-b89d0b12eea5"
   },
   "source": [
    "8. Average `Salary USD` for the \"Python\" `Job Role`"
   ]
  },
  {
   "cell_type": "code",
   "execution_count": null,
   "id": "fcc1f4be-7c64-4a1d-9153-2ae16183975e",
   "metadata": {
    "colab": {
     "base_uri": "https://localhost:8080/"
    },
    "id": "fcc1f4be-7c64-4a1d-9153-2ae16183975e",
    "outputId": "381c428b-f6e9-472b-b9f3-8dee12f00b16"
   },
   "outputs": [
    {
     "data": {
      "text/plain": [
       "5892.108764519536"
      ]
     },
     "execution_count": 83,
     "metadata": {},
     "output_type": "execute_result"
    }
   ],
   "source": [
    "avg_salaryUSD_python = sps[sps['Job Roles'] == 'Python']['Salary USD'].mean()\n",
    "avg_salaryUSD_python"
   ]
  },
  {
   "cell_type": "markdown",
   "id": "Kzuam0_Fla_V",
   "metadata": {
    "id": "Kzuam0_Fla_V"
   },
   "source": [
    "The **salary USD** for the **Python Job** **Role** is **$ 5892,11**."
   ]
  },
  {
   "cell_type": "markdown",
   "id": "32420ea4-9878-47d9-a001-eef14914f481",
   "metadata": {
    "id": "32420ea4-9878-47d9-a001-eef14914f481"
   },
   "source": [
    "9. `Company Name` with the highest **average** `Salary USD` across all `Job Title`s"
   ]
  },
  {
   "cell_type": "code",
   "execution_count": null,
   "id": "b1ff1c06-087f-42bc-9e61-8aecc2a2d89c",
   "metadata": {
    "colab": {
     "base_uri": "https://localhost:8080/",
     "height": 80
    },
    "id": "b1ff1c06-087f-42bc-9e61-8aecc2a2d89c",
    "outputId": "df9f3959-37d1-4f54-bc59-21f8aeffbf55"
   },
   "outputs": [
    {
     "data": {
      "text/html": [
       "\n",
       "  <div id=\"df-c8a32670-2465-42ca-97d5-45901ce77d9d\">\n",
       "    <div class=\"colab-df-container\">\n",
       "      <div>\n",
       "<style scoped>\n",
       "    .dataframe tbody tr th:only-of-type {\n",
       "        vertical-align: middle;\n",
       "    }\n",
       "\n",
       "    .dataframe tbody tr th {\n",
       "        vertical-align: top;\n",
       "    }\n",
       "\n",
       "    .dataframe thead th {\n",
       "        text-align: right;\n",
       "    }\n",
       "</style>\n",
       "<table border=\"1\" class=\"dataframe\">\n",
       "  <thead>\n",
       "    <tr style=\"text-align: right;\">\n",
       "      <th></th>\n",
       "      <th>Company Name</th>\n",
       "      <th>Salary USD</th>\n",
       "    </tr>\n",
       "  </thead>\n",
       "  <tbody>\n",
       "    <tr>\n",
       "      <th>9414</th>\n",
       "      <td>Thapar University</td>\n",
       "      <td>1091070.0</td>\n",
       "    </tr>\n",
       "  </tbody>\n",
       "</table>\n",
       "</div>\n",
       "      <button class=\"colab-df-convert\" onclick=\"convertToInteractive('df-c8a32670-2465-42ca-97d5-45901ce77d9d')\"\n",
       "              title=\"Convert this dataframe to an interactive table.\"\n",
       "              style=\"display:none;\">\n",
       "        \n",
       "  <svg xmlns=\"http://www.w3.org/2000/svg\" height=\"24px\"viewBox=\"0 0 24 24\"\n",
       "       width=\"24px\">\n",
       "    <path d=\"M0 0h24v24H0V0z\" fill=\"none\"/>\n",
       "    <path d=\"M18.56 5.44l.94 2.06.94-2.06 2.06-.94-2.06-.94-.94-2.06-.94 2.06-2.06.94zm-11 1L8.5 8.5l.94-2.06 2.06-.94-2.06-.94L8.5 2.5l-.94 2.06-2.06.94zm10 10l.94 2.06.94-2.06 2.06-.94-2.06-.94-.94-2.06-.94 2.06-2.06.94z\"/><path d=\"M17.41 7.96l-1.37-1.37c-.4-.4-.92-.59-1.43-.59-.52 0-1.04.2-1.43.59L10.3 9.45l-7.72 7.72c-.78.78-.78 2.05 0 2.83L4 21.41c.39.39.9.59 1.41.59.51 0 1.02-.2 1.41-.59l7.78-7.78 2.81-2.81c.8-.78.8-2.07 0-2.86zM5.41 20L4 18.59l7.72-7.72 1.47 1.35L5.41 20z\"/>\n",
       "  </svg>\n",
       "      </button>\n",
       "      \n",
       "  <style>\n",
       "    .colab-df-container {\n",
       "      display:flex;\n",
       "      flex-wrap:wrap;\n",
       "      gap: 12px;\n",
       "    }\n",
       "\n",
       "    .colab-df-convert {\n",
       "      background-color: #E8F0FE;\n",
       "      border: none;\n",
       "      border-radius: 50%;\n",
       "      cursor: pointer;\n",
       "      display: none;\n",
       "      fill: #1967D2;\n",
       "      height: 32px;\n",
       "      padding: 0 0 0 0;\n",
       "      width: 32px;\n",
       "    }\n",
       "\n",
       "    .colab-df-convert:hover {\n",
       "      background-color: #E2EBFA;\n",
       "      box-shadow: 0px 1px 2px rgba(60, 64, 67, 0.3), 0px 1px 3px 1px rgba(60, 64, 67, 0.15);\n",
       "      fill: #174EA6;\n",
       "    }\n",
       "\n",
       "    [theme=dark] .colab-df-convert {\n",
       "      background-color: #3B4455;\n",
       "      fill: #D2E3FC;\n",
       "    }\n",
       "\n",
       "    [theme=dark] .colab-df-convert:hover {\n",
       "      background-color: #434B5C;\n",
       "      box-shadow: 0px 1px 3px 1px rgba(0, 0, 0, 0.15);\n",
       "      filter: drop-shadow(0px 1px 2px rgba(0, 0, 0, 0.3));\n",
       "      fill: #FFFFFF;\n",
       "    }\n",
       "  </style>\n",
       "\n",
       "      <script>\n",
       "        const buttonEl =\n",
       "          document.querySelector('#df-c8a32670-2465-42ca-97d5-45901ce77d9d button.colab-df-convert');\n",
       "        buttonEl.style.display =\n",
       "          google.colab.kernel.accessAllowed ? 'block' : 'none';\n",
       "\n",
       "        async function convertToInteractive(key) {\n",
       "          const element = document.querySelector('#df-c8a32670-2465-42ca-97d5-45901ce77d9d');\n",
       "          const dataTable =\n",
       "            await google.colab.kernel.invokeFunction('convertToInteractive',\n",
       "                                                     [key], {});\n",
       "          if (!dataTable) return;\n",
       "\n",
       "          const docLinkHtml = 'Like what you see? Visit the ' +\n",
       "            '<a target=\"_blank\" href=https://colab.research.google.com/notebooks/data_table.ipynb>data table notebook</a>'\n",
       "            + ' to learn more about interactive tables.';\n",
       "          element.innerHTML = '';\n",
       "          dataTable['output_type'] = 'display_data';\n",
       "          await google.colab.output.renderOutput(dataTable, element);\n",
       "          const docLink = document.createElement('div');\n",
       "          docLink.innerHTML = docLinkHtml;\n",
       "          element.appendChild(docLink);\n",
       "        }\n",
       "      </script>\n",
       "    </div>\n",
       "  </div>\n",
       "  "
      ],
      "text/plain": [
       "           Company Name  Salary USD\n",
       "9414  Thapar University   1091070.0"
      ]
     },
     "execution_count": 84,
     "metadata": {},
     "output_type": "execute_result"
    }
   ],
   "source": [
    "company_avg_salaryUSD = sps.groupby('Company Name')['Salary USD'].mean().reset_index()\n",
    "highest_avg_salaryUSD = company_avg_salaryUSD.sort_values('Salary USD', ascending=False).head(1)\n",
    "highest_avg_salaryUSD"
   ]
  },
  {
   "cell_type": "markdown",
   "id": "305fe38f-9332-4ba9-8b01-25ec9db92793",
   "metadata": {
    "id": "305fe38f-9332-4ba9-8b01-25ec9db92793"
   },
   "source": [
    "10. I createed a plot that shows the **relationship** between the average `Salary USD` and the average `Rating` for each `Company Name`"
   ]
  },
  {
   "cell_type": "code",
   "execution_count": null,
   "id": "f0573791-7710-4552-b5cc-d7a86151ed4f",
   "metadata": {
    "colab": {
     "base_uri": "https://localhost:8080/",
     "height": 472
    },
    "id": "f0573791-7710-4552-b5cc-d7a86151ed4f",
    "outputId": "1e26f811-b788-4b7e-f81a-0c5a1087f79f"
   },
   "outputs": [
    {
     "data": {
      "image/png": "[encoded data removed]",
      "text/plain": [
       "<Figure size 640x480 with 1 Axes>"
      ]
     },
     "metadata": {},
     "output_type": "display_data"
    }
   ],
   "source": [
    "company_avg_salary_rating = sps.groupby('Company Name')[['Salary USD', 'Rating']].mean()\n",
    "\n",
    "sns.scatterplot(data=company_avg_salary_rating, x='Salary USD', y='Rating')\n",
    "\n",
    "plt.xlabel('Average Salary USD')\n",
    "plt.ylabel('Average Rating')\n",
    "plt.title('Relationship Average Salary USD - Average Rating')\n",
    "\n",
    "plt.show()"
   ]
  },
  {
   "cell_type": "code",
   "execution_count": null,
   "id": "SszuZEY3oAym",
   "metadata": {
    "colab": {
     "base_uri": "https://localhost:8080/"
    },
    "id": "SszuZEY3oAym",
    "outputId": "2f5a5004-f184-4214-c06d-1af84f0a6d3a"
   },
   "outputs": [
    {
     "name": "stdout",
     "output_type": "stream",
     "text": [
      "Thapar University\n"
     ]
    }
   ],
   "source": [
    "oddity_company = company_avg_salary_rating['Salary USD'].idxmax()\n",
    "\n",
    "print(oddity_company)"
   ]
  },
  {
   "cell_type": "markdown",
   "id": "asquEZjYl11x",
   "metadata": {
    "id": "asquEZjYl11x"
   },
   "source": [
    "**Thapar University** has **the highest average salary USD** (**$ 1091070**) and this is the oddity in the plot."
   ]
  }
 ],
 "metadata": {
  "colab": {
   "provenance": []
  },
  "kernelspec": {
   "display_name": "Python 3 (ipykernel)",
   "language": "python",
   "name": "python3"
  },
  "language_info": {
   "codemirror_mode": {
    "name": "ipython",
    "version": 3
   },
   "file_extension": ".py",
   "mimetype": "text/x-python",
   "name": "python",
   "nbconvert_exporter": "python",
   "pygments_lexer": "ipython3",
   "version": "3.10.11"
  }
 },
 "nbformat": 4,
 "nbformat_minor": 5
}
