{
 "cells": [
  {
   "cell_type": "code",
   "execution_count": 1,
   "metadata": {},
   "outputs": [],
   "source": [
    "# Import pandas\n",
    "import pandas as pd\n"
   ]
  },
  {
   "cell_type": "code",
   "execution_count": 2,
   "metadata": {},
   "outputs": [],
   "source": [
    "# Load the CSV file\n",
    "order_items_df = pd.read_csv('order_items.csv')"
   ]
  },
  {
   "cell_type": "code",
   "execution_count": 3,
   "metadata": {},
   "outputs": [
    {
     "data": {
      "text/html": [
       "<div>\n",
       "<style scoped>\n",
       "    .dataframe tbody tr th:only-of-type {\n",
       "        vertical-align: middle;\n",
       "    }\n",
       "\n",
       "    .dataframe tbody tr th {\n",
       "        vertical-align: top;\n",
       "    }\n",
       "\n",
       "    .dataframe thead th {\n",
       "        text-align: right;\n",
       "    }\n",
       "</style>\n",
       "<table border=\"1\" class=\"dataframe\">\n",
       "  <thead>\n",
       "    <tr style=\"text-align: right;\">\n",
       "      <th></th>\n",
       "      <th>id</th>\n",
       "      <th>order_id</th>\n",
       "      <th>user_id</th>\n",
       "      <th>product_id</th>\n",
       "      <th>inventory_item_id</th>\n",
       "      <th>status</th>\n",
       "      <th>created_at</th>\n",
       "      <th>shipped_at</th>\n",
       "      <th>delivered_at</th>\n",
       "      <th>returned_at</th>\n",
       "      <th>sale_price</th>\n",
       "    </tr>\n",
       "  </thead>\n",
       "  <tbody>\n",
       "    <tr>\n",
       "      <th>0</th>\n",
       "      <td>144361</td>\n",
       "      <td>99481</td>\n",
       "      <td>79325</td>\n",
       "      <td>13606</td>\n",
       "      <td>389633</td>\n",
       "      <td>Shipped</td>\n",
       "      <td>2023-04-02 16:13:54+00:00</td>\n",
       "      <td>2023-04-03 06:59:00+00:00</td>\n",
       "      <td>NaN</td>\n",
       "      <td>NaN</td>\n",
       "      <td>2.5</td>\n",
       "    </tr>\n",
       "    <tr>\n",
       "      <th>1</th>\n",
       "      <td>154546</td>\n",
       "      <td>106537</td>\n",
       "      <td>85042</td>\n",
       "      <td>13606</td>\n",
       "      <td>417031</td>\n",
       "      <td>Shipped</td>\n",
       "      <td>2023-02-15 17:38:21+00:00</td>\n",
       "      <td>2023-02-17 17:05:00+00:00</td>\n",
       "      <td>NaN</td>\n",
       "      <td>NaN</td>\n",
       "      <td>2.5</td>\n",
       "    </tr>\n",
       "    <tr>\n",
       "      <th>2</th>\n",
       "      <td>107821</td>\n",
       "      <td>74238</td>\n",
       "      <td>59093</td>\n",
       "      <td>13606</td>\n",
       "      <td>290926</td>\n",
       "      <td>Complete</td>\n",
       "      <td>2023-06-18 09:45:55+00:00</td>\n",
       "      <td>2023-06-18 14:18:00+00:00</td>\n",
       "      <td>2023-06-20 13:05:00+00:00</td>\n",
       "      <td>NaN</td>\n",
       "      <td>2.5</td>\n",
       "    </tr>\n",
       "    <tr>\n",
       "      <th>3</th>\n",
       "      <td>57180</td>\n",
       "      <td>39391</td>\n",
       "      <td>31553</td>\n",
       "      <td>13606</td>\n",
       "      <td>154194</td>\n",
       "      <td>Cancelled</td>\n",
       "      <td>2022-11-04 17:34:09+00:00</td>\n",
       "      <td>NaN</td>\n",
       "      <td>NaN</td>\n",
       "      <td>NaN</td>\n",
       "      <td>2.5</td>\n",
       "    </tr>\n",
       "    <tr>\n",
       "      <th>4</th>\n",
       "      <td>98977</td>\n",
       "      <td>68178</td>\n",
       "      <td>54310</td>\n",
       "      <td>13606</td>\n",
       "      <td>266962</td>\n",
       "      <td>Cancelled</td>\n",
       "      <td>2022-06-16 04:12:25+00:00</td>\n",
       "      <td>NaN</td>\n",
       "      <td>NaN</td>\n",
       "      <td>NaN</td>\n",
       "      <td>2.5</td>\n",
       "    </tr>\n",
       "  </tbody>\n",
       "</table>\n",
       "</div>"
      ],
      "text/plain": [
       "       id  order_id  user_id  product_id  inventory_item_id     status  \\\n",
       "0  144361     99481    79325       13606             389633    Shipped   \n",
       "1  154546    106537    85042       13606             417031    Shipped   \n",
       "2  107821     74238    59093       13606             290926   Complete   \n",
       "3   57180     39391    31553       13606             154194  Cancelled   \n",
       "4   98977     68178    54310       13606             266962  Cancelled   \n",
       "\n",
       "                  created_at                 shipped_at  \\\n",
       "0  2023-04-02 16:13:54+00:00  2023-04-03 06:59:00+00:00   \n",
       "1  2023-02-15 17:38:21+00:00  2023-02-17 17:05:00+00:00   \n",
       "2  2023-06-18 09:45:55+00:00  2023-06-18 14:18:00+00:00   \n",
       "3  2022-11-04 17:34:09+00:00                        NaN   \n",
       "4  2022-06-16 04:12:25+00:00                        NaN   \n",
       "\n",
       "                delivered_at returned_at  sale_price  \n",
       "0                        NaN         NaN         2.5  \n",
       "1                        NaN         NaN         2.5  \n",
       "2  2023-06-20 13:05:00+00:00         NaN         2.5  \n",
       "3                        NaN         NaN         2.5  \n",
       "4                        NaN         NaN         2.5  "
      ]
     },
     "execution_count": 3,
     "metadata": {},
     "output_type": "execute_result"
    }
   ],
   "source": [
    "# Display the first few rows to understand the structure of the data\n",
    "order_items_df.head()"
   ]
  },
  {
   "cell_type": "code",
   "execution_count": 4,
   "metadata": {},
   "outputs": [],
   "source": [
    "# Drop rows where 'id', 'order_id', 'user_id', 'product_id', or 'inventory_item_id' are missing\n",
    "rows_to_drop = order_items_df[['id', 'order_id', 'user_id', 'product_id', 'inventory_item_id']].isnull().any(axis=1)\n",
    "order_items_cleaned = order_items_df.drop(index=rows_to_drop[rows_to_drop].index)"
   ]
  },
  {
   "cell_type": "code",
   "execution_count": 7,
   "metadata": {},
   "outputs": [],
   "source": [
    "# Replace missing 'status' with \"Unknown\"\n",
    "order_items_cleaned['status'] = order_items_cleaned['status'].fillna(\"Unknown\")"
   ]
  },
  {
   "cell_type": "code",
   "execution_count": 8,
   "metadata": {},
   "outputs": [],
   "source": [
    "# Drop rows where 'created_at' is missing\n",
    "order_items_cleaned = order_items_cleaned.dropna(subset=['created_at'])\n"
   ]
  },
  {
   "cell_type": "code",
   "execution_count": 9,
   "metadata": {},
   "outputs": [],
   "source": [
    "# Check the number of missing values in 'sale_price'\n",
    "missing_sale_price_count = order_items_cleaned['sale_price'].isnull().sum()\n"
   ]
  },
  {
   "cell_type": "code",
   "execution_count": 10,
   "metadata": {},
   "outputs": [],
   "source": [
    "# Replace missing 'sale_price' with the median if there are few missing values, else drop the row\n",
    "if missing_sale_price_count < 100:  # Threshold can be adjusted\n",
    "    median_sale_price = order_items_cleaned['sale_price'].median()\n",
    "    order_items_cleaned['sale_price'] = order_items_cleaned['sale_price'].fillna(median_sale_price)\n",
    "else:\n",
    "    order_items_cleaned = order_items_cleaned.dropna(subset=['sale_price'])"
   ]
  },
  {
   "cell_type": "code",
   "execution_count": 13,
   "metadata": {},
   "outputs": [
    {
     "data": {
      "text/plain": [
       "0"
      ]
     },
     "execution_count": 13,
     "metadata": {},
     "output_type": "execute_result"
    }
   ],
   "source": [
    "# Count the number of rows dropped from 'sale_price'\n",
    "rows_dropped_from_sale_price = order_items_df.shape[0] - order_items_cleaned.shape[0]\n",
    "\n",
    "rows_dropped_from_sale_price"
   ]
  },
  {
   "cell_type": "code",
   "execution_count": 12,
   "metadata": {},
   "outputs": [
    {
     "data": {
      "text/plain": [
       "id                        0\n",
       "order_id                  0\n",
       "user_id                   0\n",
       "product_id                0\n",
       "inventory_item_id         0\n",
       "status                    0\n",
       "created_at                0\n",
       "shipped_at            64054\n",
       "delivered_at         118042\n",
       "returned_at          163177\n",
       "sale_price                0\n",
       "dtype: int64"
      ]
     },
     "execution_count": 12,
     "metadata": {},
     "output_type": "execute_result"
    }
   ],
   "source": [
    "# Check the final count of missing values for each column\n",
    "missing_values_count_final = order_items_cleaned.isnull().sum()\n",
    "\n",
    "missing_values_count_final"
   ]
  },
  {
   "cell_type": "code",
   "execution_count": 14,
   "metadata": {},
   "outputs": [],
   "source": [
    "order_items_cleaned.to_csv('Order_items_cleaned.csv', index=False)"
   ]
  },
  {
   "cell_type": "code",
   "execution_count": null,
   "metadata": {},
   "outputs": [],
   "source": []
  }
 ],
 "metadata": {
  "kernelspec": {
   "display_name": "base",
   "language": "python",
   "name": "python3"
  },
  "language_info": {
   "codemirror_mode": {
    "name": "ipython",
    "version": 3
   },
   "file_extension": ".py",
   "mimetype": "text/x-python",
   "name": "python",
   "nbconvert_exporter": "python",
   "pygments_lexer": "ipython3",
   "version": "3.9.16"
  },
  "orig_nbformat": 4
 },
 "nbformat": 4,
 "nbformat_minor": 2
}
